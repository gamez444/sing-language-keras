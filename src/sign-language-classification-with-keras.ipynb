{
  "cells": [
    {
      "metadata": {
        "ExecuteTime": {
          "end_time": "2018-06-03T18:31:55.500020Z",
          "start_time": "2018-06-03T18:31:55.296898Z"
        },
        "trusted": true,
        "_uuid": "f474f2bf006a259808b2c0745c5d9ab617cf9ccc"
      },
      "cell_type": "code",
      "source": "import numpy as np # linear algebra\nimport pandas as pd # data processing, CSV file I/O (e.g. pd.read_csv)\n\nimport os\nprint(os.listdir(\"../input\"))",
      "execution_count": null,
      "outputs": []
    },
    {
      "metadata": {
        "ExecuteTime": {
          "end_time": "2018-06-03T18:31:55.566557Z",
          "start_time": "2018-06-03T18:31:55.501160Z"
        },
        "trusted": true,
        "collapsed": true,
        "_uuid": "f5b6922d6a99101d700ddd29aa960c65fe79bd6f"
      },
      "cell_type": "code",
      "source": "#plot / img libs\nimport matplotlib.pyplot as plt\nimport matplotlib.image as mpimg",
      "execution_count": null,
      "outputs": []
    },
    {
      "metadata": {
        "_uuid": "f3b0115600cc05e035009e138ae8e017cf1858f1"
      },
      "cell_type": "markdown",
      "source": "# 1 - Introduction"
    },
    {
      "metadata": {
        "_uuid": "bb4ca54fe4ae49862856e6dc91319f1c7b3eea41"
      },
      "cell_type": "markdown",
      "source": "The input data is stored in npy files, let's read them."
    },
    {
      "metadata": {
        "ExecuteTime": {
          "end_time": "2018-06-03T18:31:55.589192Z",
          "start_time": "2018-06-03T18:31:55.567397Z"
        },
        "trusted": true,
        "_uuid": "ce7e162f705bc1ab70a02e656798e1f391e79eab"
      },
      "cell_type": "code",
      "source": "# load data set\nX = np.load('../input/Sign-language-digits-dataset/X.npy')\nY = np.load('../input/Sign-language-digits-dataset/Y.npy')\nX.shape, Y.shape",
      "execution_count": null,
      "outputs": []
    },
    {
      "metadata": {
        "_uuid": "42caa801e734921a6d597d2ce17dcaa937340e34"
      },
      "cell_type": "markdown",
      "source": "We can see that in X we have 2062 observations, each of them consisting in a 64x64 px image. In Y, we have the same number of rows, with 10 columns, one for each possible label. Let's take a look at the first image:"
    },
    {
      "metadata": {
        "ExecuteTime": {
          "end_time": "2018-06-03T18:31:55.742634Z",
          "start_time": "2018-06-03T18:31:55.590118Z"
        },
        "trusted": true,
        "_uuid": "5267fb4b1c7c3d26955ed98391af08c43038963d"
      },
      "cell_type": "code",
      "source": "plt.imshow(X[0,:,:], cmap='gray')",
      "execution_count": null,
      "outputs": []
    },
    {
      "metadata": {
        "ExecuteTime": {
          "end_time": "2018-05-30T17:28:10.147121Z",
          "start_time": "2018-05-30T17:28:10.139222Z"
        },
        "_uuid": "567833e05e77ac010d0c51f09406a113a2d9202f"
      },
      "cell_type": "markdown",
      "source": "This represents a 9, let's look at how the labels array represent this nine:"
    },
    {
      "metadata": {
        "ExecuteTime": {
          "end_time": "2018-06-03T18:31:55.749768Z",
          "start_time": "2018-06-03T18:31:55.745691Z"
        },
        "trusted": true,
        "_uuid": "e2ffb94a64d7833a3bab6b0f6744ae648492367a"
      },
      "cell_type": "code",
      "source": "Y[0,:]",
      "execution_count": null,
      "outputs": []
    },
    {
      "metadata": {
        "_uuid": "2f194d9ac003da0f0e16c10e886dfd10dc9a3ed0"
      },
      "cell_type": "markdown",
      "source": "We can see, that the only column set to one, is the first one. Let's take a look, at the first picture of each label, by the column index."
    },
    {
      "metadata": {
        "ExecuteTime": {
          "end_time": "2018-06-03T18:31:55.813447Z",
          "start_time": "2018-06-03T18:31:55.752843Z"
        },
        "trusted": true,
        "collapsed": true,
        "_uuid": "68013b316b840ec17d98979358b59a6e4eb67fbf"
      },
      "cell_type": "code",
      "source": "def plot_digits_colidx(X, Y):\n    plt.figure(figsize=(10,10))\n    plt.plot([5, 2, 11])\n    for i in col_idx:\n        ax = plt.subplot(5, 2, i+1)\n        ax.set_title(\"Column_idx: \" + str(i))\n        plt.axis('off')\n        plt.imshow(X[np.argwhere(Y[:,i]==1)[0][0],:], cmap='gray')",
      "execution_count": null,
      "outputs": []
    },
    {
      "metadata": {
        "ExecuteTime": {
          "end_time": "2018-06-03T18:31:56.269452Z",
          "start_time": "2018-06-03T18:31:55.816639Z"
        },
        "trusted": true,
        "_uuid": "da532b75118a6cea18b0e5e8966906a5225efc68"
      },
      "cell_type": "code",
      "source": "N_classes = Y.shape[1]\ncol_idx = [i for i in range(N_classes)]\nplot_digits_colidx(X, Y)",
      "execution_count": null,
      "outputs": []
    },
    {
      "metadata": {
        "_uuid": "fbf3c83c0c90b10a57dd4295f951e0537fa824ec"
      },
      "cell_type": "markdown",
      "source": "Looking at this plot, that shows the first image for each column activation, we can see that the column index does not correspond to the digit that they represent. This is the relationship of column index to digit:\n\n| Column index | Digit | \n| --- | --- |\n| 0 | 9 |\n| 1 | 0 |\n| 2 | 7 |\n| 3 | 6 |\n| 4 | 1 |\n| 5 | 8 |\n| 6 | 4 |\n| 7 | 3 |\n| 8 | 2 |\n| 9 | 5 |"
    },
    {
      "metadata": {
        "_uuid": "27cb576636e519f26b2ec8e91f93c324e24d9379"
      },
      "cell_type": "markdown",
      "source": "Let't capture this in a dictionary, and let's transform the Y matrix so that its column indeces correspond to the digit they represent"
    },
    {
      "metadata": {
        "ExecuteTime": {
          "end_time": "2018-06-03T18:31:56.286554Z",
          "start_time": "2018-06-03T18:31:56.270255Z"
        },
        "trusted": true,
        "collapsed": true,
        "_uuid": "3a5b08aecd51d620f2d56080332e9d70dadd9daa"
      },
      "cell_type": "code",
      "source": "#dictionary that handles the column index - digit relatinship\ncolidx_digit = {0: 9,\n                1: 0,\n                2: 7,\n                3: 6,\n                4: 1,\n                5: 8,\n                6: 4,\n                7: 3,\n                8: 2,\n                9: 5}\n\n#digit - column index relationship dictionary\ndigit_colidx = {v: k for k, v in colidx_digit.items()}",
      "execution_count": null,
      "outputs": []
    },
    {
      "metadata": {
        "ExecuteTime": {
          "end_time": "2018-06-03T18:31:56.353831Z",
          "start_time": "2018-06-03T18:31:56.290005Z"
        },
        "trusted": true,
        "collapsed": true,
        "_uuid": "429355a5b5d4a7f3330cea725ba03c3c4893abca"
      },
      "cell_type": "code",
      "source": "#create empty matrix\nY_ordered = np.zeros(Y.shape)\n#fill the matrix so that the columns index also corresponds to the digit\nfor i in range(N_classes):\n    Y_ordered[:, i] = Y[:, digit_colidx[i]]",
      "execution_count": null,
      "outputs": []
    },
    {
      "metadata": {
        "_uuid": "2d872b6de103effaf1191a1cfc53e0c2bdf99451"
      },
      "cell_type": "markdown",
      "source": "Let's check that the reordering worked."
    },
    {
      "metadata": {
        "ExecuteTime": {
          "end_time": "2018-06-03T18:31:56.790895Z",
          "start_time": "2018-06-03T18:31:56.357815Z"
        },
        "trusted": true,
        "_uuid": "ead734ea658370d0e9d7c602e3372df72aee3426"
      },
      "cell_type": "code",
      "source": "plot_digits_colidx(X, Y_ordered)",
      "execution_count": null,
      "outputs": []
    },
    {
      "metadata": {
        "_uuid": "db62f53c5042794fee1b213a32face8362fdfc11"
      },
      "cell_type": "markdown",
      "source": "Yup! now the column indeces correspond the digit they represent."
    },
    {
      "metadata": {
        "_uuid": "6465e159484dc1a5be5e8b397aff07438f71e69d"
      },
      "cell_type": "markdown",
      "source": "Let's now look at the number of samples that we have for each label:"
    },
    {
      "metadata": {
        "ExecuteTime": {
          "end_time": "2018-06-03T18:31:56.794374Z",
          "start_time": "2018-06-03T18:31:56.791935Z"
        },
        "trusted": false,
        "_uuid": "4e545a14312ed57775e9e12af604bc69cfe4a5ea"
      },
      "cell_type": "code",
      "source": "Y.sum(axis=0)",
      "execution_count": null,
      "outputs": []
    },
    {
      "metadata": {
        "_uuid": "4b24f53d59d8802a9b423426b228a7454d4b275d"
      },
      "cell_type": "markdown",
      "source": "We can see that all labels have almost the same number of observations, being the least the digit 0, with 204 observations, and the label with the most observations the digit 5, with 208 observations."
    },
    {
      "metadata": {
        "_uuid": "b91086436d191e4cc9ade3b2c332376e6c42deb8"
      },
      "cell_type": "markdown",
      "source": "Let's now draw some samples for each digit:"
    },
    {
      "metadata": {
        "ExecuteTime": {
          "end_time": "2018-06-03T18:31:58.186117Z",
          "start_time": "2018-06-03T18:31:56.797437Z"
        },
        "trusted": false,
        "_uuid": "00179e7d5343462b088b9c4a0385bac27e2d7ced"
      },
      "cell_type": "code",
      "source": "#N images per row\nN_im_lab = 5\nplt.figure(figsize=(11,11))\nplt.plot([N_classes, N_im_lab, (N_im_lab * N_classes) + 1])\n\n#for every label\nfor lab in range(N_classes):\n    #show N_im_lab first samples\n    for i in range(N_im_lab):\n        ax = plt.subplot(N_classes, N_im_lab, 1 + (i + (lab*N_im_lab)))\n        plt.axis('off')\n        plt.imshow(X[np.argwhere(Y_ordered[:,lab]==1)[i][0],:], cmap='gray')",
      "execution_count": null,
      "outputs": []
    },
    {
      "metadata": {
        "_uuid": "7aa42401ed266f9b079d6e9bdfb6f4892149a3a5"
      },
      "cell_type": "markdown",
      "source": "We can see that there are small variations in all digits. For example, for digit 0, sometimes is possible to see the background through the 0 symbol hole, but some other times it is not possible."
    },
    {
      "metadata": {
        "_uuid": "360560fc518f661e114b5d52051dee0b30d7ba5a"
      },
      "cell_type": "markdown",
      "source": "Now that we are a bit more familiar with the data, let's start with the modeling."
    },
    {
      "metadata": {
        "_uuid": "3b0fb55d1841026fb767482af2ffdb08bc458ce9"
      },
      "cell_type": "markdown",
      "source": "# 2 - Baseline model"
    },
    {
      "metadata": {
        "_uuid": "3cf9fc9aaae0677fc3da9ff1fbc0a3ed795d7cc9"
      },
      "cell_type": "markdown",
      "source": "The modeling framework that I will use is going to be Keras, so the baseline model we will build is a Logistic regression:"
    },
    {
      "metadata": {
        "ExecuteTime": {
          "end_time": "2018-06-03T18:31:58.780016Z",
          "start_time": "2018-06-03T18:31:58.186978Z"
        },
        "trusted": false,
        "_uuid": "3e9582581866d1072172c379d84ebc374b78fd9b",
        "collapsed": true
      },
      "cell_type": "code",
      "source": "import keras\nfrom keras.models import Model\nfrom keras.layers import Input, Dense, Activation, Flatten",
      "execution_count": null,
      "outputs": []
    },
    {
      "metadata": {
        "ExecuteTime": {
          "end_time": "2018-06-03T18:31:58.784909Z",
          "start_time": "2018-06-03T18:31:58.781055Z"
        },
        "trusted": false,
        "collapsed": true,
        "_uuid": "046b7e7addfe2867d4e9aec8b98d7dd660868d3e"
      },
      "cell_type": "code",
      "source": "def keras_lr(input_shape):\n    #input layer\n    X_input = Input(input_shape)\n    #flatten\n    X = Flatten()(X_input)\n    #dense layer\n    X = Dense(N_classes, activation='softmax')(X)\n    model = Model(inputs = X_input, outputs = X, name='keras_lr')\n    return model",
      "execution_count": null,
      "outputs": []
    },
    {
      "metadata": {
        "ExecuteTime": {
          "end_time": "2018-06-03T18:31:58.945294Z",
          "start_time": "2018-06-03T18:31:58.785964Z"
        },
        "trusted": false,
        "collapsed": true,
        "_uuid": "694af32013b854ba783549bd1c8f1718d0489f6b"
      },
      "cell_type": "code",
      "source": "lr_model = keras_lr((64, 64, 1))",
      "execution_count": null,
      "outputs": []
    },
    {
      "metadata": {
        "ExecuteTime": {
          "end_time": "2018-06-03T18:31:58.969660Z",
          "start_time": "2018-06-03T18:31:58.946374Z"
        },
        "trusted": false,
        "_uuid": "4d723f11586482fcbb6d2bf38fead03417f2b5f1",
        "collapsed": true
      },
      "cell_type": "code",
      "source": "lr_model.summary()",
      "execution_count": null,
      "outputs": []
    },
    {
      "metadata": {
        "ExecuteTime": {
          "end_time": "2018-06-02T17:22:35.394955Z",
          "start_time": "2018-06-02T17:22:35.390424Z"
        },
        "_uuid": "f522bf56d5ae039b1c13cf9c74d178aa929fbb80"
      },
      "cell_type": "markdown",
      "source": "Even if a logistic regression is a 'simple' model, the input dimensionality is 4096 (64x64), that results in having 40970 parameters (10 times 4096 weights, and 10 bias parameters; one for each digit). In general, when you have more parameters than observations (2062), you are in quite some trouble. Anyways, lets fit this logistic regression and see how it performs:"
    },
    {
      "metadata": {
        "ExecuteTime": {
          "end_time": "2018-06-03T18:31:59.088121Z",
          "start_time": "2018-06-03T18:31:58.970566Z"
        },
        "trusted": false,
        "collapsed": true,
        "_uuid": "5fd0aa016fedf448e211adfde7c0a06e2df153a0"
      },
      "cell_type": "code",
      "source": "#set the optimization\nlr_model.compile(optimizer = \"adam\", loss = \"categorical_crossentropy\", metrics = [\"accuracy\"])",
      "execution_count": null,
      "outputs": []
    },
    {
      "metadata": {
        "ExecuteTime": {
          "end_time": "2018-06-03T18:31:59.234631Z",
          "start_time": "2018-06-03T18:31:59.089674Z"
        },
        "trusted": false,
        "collapsed": true,
        "_uuid": "29614c0d2077ff8d8689b24655cb4d9af856bc9f"
      },
      "cell_type": "code",
      "source": "#reshape the data, to adapt the shape to the keras expectation\nX = X.reshape(X.shape[0], 64, 64, 1)\n\n#train-test split\nfrom sklearn.model_selection import train_test_split\nX_train, X_test, y_train, y_test = train_test_split(X, Y_ordered, random_state=4)",
      "execution_count": null,
      "outputs": []
    },
    {
      "metadata": {
        "ExecuteTime": {
          "end_time": "2018-06-03T18:32:19.528716Z",
          "start_time": "2018-06-03T18:31:59.235484Z"
        },
        "trusted": false,
        "_uuid": "8d72851dfb056e6f1894a7371f2faa2689d797c3",
        "collapsed": true
      },
      "cell_type": "code",
      "source": "#fit the model\nlr_fit_hist = lr_model.fit(x = X_train , y = y_train, validation_data = (X_test, y_test), epochs = 500, batch_size = 128, verbose=0)",
      "execution_count": null,
      "outputs": []
    },
    {
      "metadata": {
        "ExecuteTime": {
          "end_time": "2018-06-03T18:32:19.536588Z",
          "start_time": "2018-06-03T18:32:19.530336Z"
        },
        "trusted": false,
        "collapsed": true,
        "_uuid": "697990e59bd531ac02977635d950146d93f1b5c1"
      },
      "cell_type": "code",
      "source": "#show the train-test accuracy depending on the epoch\ndef plot_acc_vs_epoch(fit_history):\n    plt.plot(fit_history.history['acc'])\n    plt.plot(fit_history.history['val_acc'])\n    plt.title('Model accuracy')\n    plt.ylabel('accuracy')\n    plt.xlabel('epoch')\n    plt.legend(['train', 'test'], loc='upper left')\n    plt.show()",
      "execution_count": null,
      "outputs": []
    },
    {
      "metadata": {
        "ExecuteTime": {
          "end_time": "2018-06-03T18:32:19.699613Z",
          "start_time": "2018-06-03T18:32:19.538177Z"
        },
        "trusted": false,
        "_uuid": "88ecc941d480f7033fbfbed679c1483f605b2730"
      },
      "cell_type": "code",
      "source": "plot_acc_vs_epoch(lr_fit_hist)",
      "execution_count": null,
      "outputs": []
    },
    {
      "metadata": {
        "ExecuteTime": {
          "end_time": "2018-06-03T18:32:19.736892Z",
          "start_time": "2018-06-03T18:32:19.700607Z"
        },
        "trusted": false,
        "_uuid": "f6d788b891ee0f1fa3c8e172f99f647f4a20aa38",
        "collapsed": true
      },
      "cell_type": "code",
      "source": "#evaluate the model performance in the validation set\nevs = lr_model.evaluate(x = X_test, y = y_test)\n#show the accuracy metric\nprint(evs[1])",
      "execution_count": null,
      "outputs": []
    },
    {
      "metadata": {
        "_uuid": "4633e4309a10651fc31797b5fa1abf7e8ed1865c"
      },
      "cell_type": "markdown",
      "source": "We can see that this baseline, performs not so bad, having an accuracy of 74% . We can see that how the model performance evolves with the number of epochs. In the first 100 epochs, the model gets to a plateau in test performance, while the performance on the train set keeps improving, which is clear sign of over-fit. Let's set our final baseline, with this same configuration, but with just 200 epochs, as there seems to be a small improvement from the 100 epochs scenario:"
    },
    {
      "metadata": {
        "ExecuteTime": {
          "end_time": "2018-06-03T18:32:25.876941Z",
          "start_time": "2018-06-03T18:32:19.737949Z"
        },
        "trusted": false,
        "_uuid": "6a6550bac78ee7bdfe96732b81f23b8d96b10d57"
      },
      "cell_type": "code",
      "source": "#fit the baseline model\nbase_model = keras_lr((64, 64, 1))\nbase_model.compile(optimizer = \"adam\", loss = \"categorical_crossentropy\", metrics = [\"accuracy\"])\nbasline_fit_hist = base_model.fit(x = X_train , y = y_train, validation_data = (X_test, y_test), epochs = 200, batch_size = 128, verbose=0)\n#baseline model accuracy\nbase_model.evaluate(x = X_test, y = y_test)[1]",
      "execution_count": null,
      "outputs": []
    },
    {
      "metadata": {
        "_uuid": "bbefaa9d207e0ba8a3a36da30db2a3f2154c5731"
      },
      "cell_type": "markdown",
      "source": "Let's now take a look at the confusion matrix, to see wether if the errors are evenly distributed between classes:"
    },
    {
      "metadata": {
        "ExecuteTime": {
          "end_time": "2018-06-03T18:32:25.974609Z",
          "start_time": "2018-06-03T18:32:25.877893Z"
        },
        "trusted": false,
        "collapsed": true,
        "_uuid": "274e1c7ab4ff372f285ccdcf1eff9a04a09ae57f"
      },
      "cell_type": "code",
      "source": "#compute confusion matrix\nimport seaborn as sn\nfrom sklearn.metrics import confusion_matrix, accuracy_score, roc_curve, auc\n\ndef plot_conf_matrix(y_true, y_pred, set_str):\n    \"\"\"\n    This function plots a basic confusion matrix\n    \"\"\"\n    conf_mat = confusion_matrix(y_true, y_pred)\n    df_conf = pd.DataFrame(conf_mat, index = ['Digit - ' + str(i) for i in range(N_classes)],\n                           columns = ['Digit - ' + str(i) for i in range(N_classes)])\n\n    plt.figure(figsize = (12, 12))\n    sn.heatmap(df_conf, annot=True, cmap=\"YlGnBu\")",
      "execution_count": null,
      "outputs": []
    },
    {
      "metadata": {
        "ExecuteTime": {
          "end_time": "2018-06-03T18:32:26.403744Z",
          "start_time": "2018-06-03T18:32:25.975461Z"
        },
        "trusted": false,
        "_uuid": "5c92875ec6a1ae152dfffa520e91a2abf1c8872a"
      },
      "cell_type": "code",
      "source": "#class estimation\nbase_y_test_pred = base_model.predict(X_test)\nplot_conf_matrix(y_test.argmax(axis=1), base_y_test_pred.argmax(axis=1), '')",
      "execution_count": null,
      "outputs": []
    },
    {
      "metadata": {
        "_uuid": "d8f2d4181d7418f56876a482cca5604cf4e36ec6"
      },
      "cell_type": "markdown",
      "source": "Ups, the first thing that pops up from this confusion matrix, is that there is not an uneven number of observations for each label. If I have time, I'll try to fix it using a stratified split schema.\n\nNow, looking at the errors, we can see that most of the errors are focused in the digits 2, 4, 6 and 7."
    },
    {
      "metadata": {
        "ExecuteTime": {
          "end_time": "2018-06-03T18:32:26.409888Z",
          "start_time": "2018-06-03T18:32:26.406695Z"
        },
        "trusted": false,
        "_uuid": "2589d01e913bd99b31c9af01d20434a6aeaeb180",
        "collapsed": true
      },
      "cell_type": "code",
      "source": "from sklearn.metrics import classification_report\nprint(classification_report(y_test.argmax(axis=1), base_y_test_pred.argmax(axis=1)))",
      "execution_count": null,
      "outputs": []
    },
    {
      "metadata": {
        "_uuid": "ef73a973b26a3c560bc0a222f2de259884547824"
      },
      "cell_type": "markdown",
      "source": "# 3 - CNN model"
    },
    {
      "metadata": {
        "ExecuteTime": {
          "end_time": "2018-06-02T18:50:19.967708Z",
          "start_time": "2018-06-02T18:50:19.952196Z"
        },
        "_uuid": "ebceb1a860f00d55dbb29ad3913eee4d0db1a60e"
      },
      "cell_type": "markdown",
      "source": "In this section, we will train a CNN, to see if we can improve the performance achieved by the baseline model."
    },
    {
      "metadata": {
        "ExecuteTime": {
          "end_time": "2018-06-03T18:32:26.503184Z",
          "start_time": "2018-06-03T18:32:26.411806Z"
        },
        "trusted": false,
        "collapsed": true,
        "_uuid": "6285460ae7f31d8738777567f6b89d97029d9aeb"
      },
      "cell_type": "code",
      "source": "from keras.layers import Conv2D, BatchNormalization, MaxPooling2D, ZeroPadding2D, Dropout",
      "execution_count": null,
      "outputs": []
    },
    {
      "metadata": {
        "ExecuteTime": {
          "end_time": "2018-06-03T18:32:26.586655Z",
          "start_time": "2018-06-03T18:32:26.507884Z"
        },
        "trusted": false,
        "collapsed": true,
        "_uuid": "aad15c55d6a7a3aba48849a7abd459b38bc8509d"
      },
      "cell_type": "code",
      "source": "#CONV-> BatchNorm-> RELU block\ndef conv_bn_relu_block(X, n_channels, kernel_size=(3, 3)):\n    X = Conv2D(n_channels, kernel_size)(X)\n    X = BatchNormalization(axis = 3)(X)\n    X = Activation('relu')(X)\n    return X",
      "execution_count": null,
      "outputs": []
    },
    {
      "metadata": {
        "_uuid": "6cd5bdc0021f15b1fd84ff130588fc3a998ac688"
      },
      "cell_type": "markdown",
      "source": "We will first try a simple CNN architecture, with two convolutional layers, and then a dense layer. Each layer has relu activation. The first layer has a bigger kernel size (5x5), while the second one has a smaller kernel size (3x3). Maxpooling is used after both layers output, in order to reduce the dimensionality, and keep the most prominent activations."
    },
    {
      "metadata": {
        "ExecuteTime": {
          "end_time": "2018-06-03T18:32:26.671842Z",
          "start_time": "2018-06-03T18:32:26.591227Z"
        },
        "trusted": false,
        "collapsed": true,
        "_uuid": "647527b60dcd31af8b4168ad60260a6d0bbf3efb"
      },
      "cell_type": "code",
      "source": "def keras_cnn_v1(input_shape):\n    #input layer\n    X_input = Input(input_shape)\n    #32 filters, with 5x5 kernel size\n    X = conv_bn_relu_block(X_input, 10, (5, 5))\n    #Maxpooling and dropout\n    X = MaxPooling2D((2, 2))(X)\n    X = Dropout(0.5)(X)\n    #run another CONV -> BN -> RELU block\n    X = ZeroPadding2D((1, 1))(X)\n    X = conv_bn_relu_block(X, 20)\n    X = MaxPooling2D((2, 2))(X)\n    X = Dropout(0.5)(X)\n    #flatten\n    X = Flatten()(X)\n    #dense layer\n    X = Dense(N_classes, activation='softmax')(X)\n    model = Model(inputs = X_input, outputs = X, name='keras_lr')\n    return model",
      "execution_count": null,
      "outputs": []
    },
    {
      "metadata": {
        "ExecuteTime": {
          "end_time": "2018-06-03T18:32:26.898721Z",
          "start_time": "2018-06-03T18:32:26.676275Z"
        },
        "trusted": false,
        "_uuid": "fd2178b895482a5df42684e2be632be54960ed74",
        "collapsed": true
      },
      "cell_type": "code",
      "source": "cnn_v1 = keras_cnn_v1((64, 64, 1))\ncnn_v1.summary()",
      "execution_count": null,
      "outputs": []
    },
    {
      "metadata": {
        "ExecuteTime": {
          "end_time": "2018-06-03T18:33:31.304049Z",
          "start_time": "2018-06-03T18:32:26.900390Z"
        },
        "trusted": false,
        "_uuid": "6d9b8df1d4fcc7e208cf5d03b933d83b31ec15f6",
        "collapsed": true
      },
      "cell_type": "code",
      "source": "cnn_v1.compile(optimizer = \"adam\", loss = \"categorical_crossentropy\", metrics = [\"accuracy\"])\ncnn_v1_hist = cnn_v1.fit(x = X_train , y = y_train, validation_data = (X_test, y_test), epochs = 300, batch_size = 128, verbose=0)",
      "execution_count": null,
      "outputs": []
    },
    {
      "metadata": {
        "ExecuteTime": {
          "end_time": "2018-06-03T18:33:31.455001Z",
          "start_time": "2018-06-03T18:33:31.307182Z"
        },
        "trusted": false,
        "_uuid": "72dcba1b058b694e00573e2c7ef10798de196c32"
      },
      "cell_type": "code",
      "source": "plot_acc_vs_epoch(cnn_v1_hist)\nprint (cnn_v1.evaluate(x = X_test, y = y_test)[1])",
      "execution_count": null,
      "outputs": []
    },
    {
      "metadata": {
        "_uuid": "b3f0fe08ff9b89457590968f8b2daf60d49e9d9c"
      },
      "cell_type": "markdown",
      "source": "This first proposed model has a accuracy of around 89%, around 14 points better than the baseline. Although we can see some overfit, as the train accuracy is around 99%. Let's now add one more layer to this CNN architecture, and see if there is any improvement:"
    },
    {
      "metadata": {
        "ExecuteTime": {
          "end_time": "2018-06-03T18:33:31.470857Z",
          "start_time": "2018-06-03T18:33:31.456000Z"
        },
        "trusted": false,
        "collapsed": true,
        "_uuid": "9cb5119b8e83407be89ea023fed16667a81ab504"
      },
      "cell_type": "code",
      "source": "def keras_cnn_v2(input_shape):\n    #input layer\n    X_input = Input(input_shape)\n    #32 filters, with 5x5 kernel size\n    X = conv_bn_relu_block(X_input, 10, (5, 5))\n    #Maxpooling and dropout\n    X = MaxPooling2D((2, 2))(X)\n    X = Dropout(0.5)(X)\n    #run another CONV -> BN -> RELU block\n    X = ZeroPadding2D((1, 1))(X)\n    X = conv_bn_relu_block(X, 15)\n    X = MaxPooling2D((2, 2))(X)\n    X = Dropout(0.5)(X)\n    #run another CONV -> BN -> RELU block\n    X = ZeroPadding2D((1, 1))(X)\n    X = conv_bn_relu_block(X, 20)\n    X = MaxPooling2D((2, 2))(X)\n    X = Dropout(0.5)(X)\n    #flatten\n    X = Flatten()(X)\n    #dense layer\n    X = Dense(N_classes, activation='softmax')(X)\n    model = Model(inputs = X_input, outputs = X, name='keras_lr')\n    return model",
      "execution_count": null,
      "outputs": []
    },
    {
      "metadata": {
        "ExecuteTime": {
          "end_time": "2018-06-03T18:33:31.702922Z",
          "start_time": "2018-06-03T18:33:31.471871Z"
        },
        "trusted": false,
        "_uuid": "8fdd36d1bdf1b55a0a550a0b1d75f9b7d4f8ab36",
        "collapsed": true
      },
      "cell_type": "code",
      "source": "cnn_v2 = keras_cnn_v2((64, 64, 1))\ncnn_v2.summary()",
      "execution_count": null,
      "outputs": []
    },
    {
      "metadata": {
        "ExecuteTime": {
          "end_time": "2018-06-03T18:34:39.613493Z",
          "start_time": "2018-06-03T18:33:31.704307Z"
        },
        "trusted": false,
        "_uuid": "823f88b1362e4a9342ebffe20159554a3fdfccb6",
        "collapsed": true
      },
      "cell_type": "code",
      "source": "cnn_v2.compile(optimizer = \"adam\", loss = \"categorical_crossentropy\", metrics = [\"accuracy\"])\ncnn_v2_hist = cnn_v2.fit(x = X_train , y = y_train, validation_data = (X_test, y_test), epochs = 300, batch_size = 128, verbose=0)",
      "execution_count": null,
      "outputs": []
    },
    {
      "metadata": {
        "ExecuteTime": {
          "end_time": "2018-06-03T18:34:39.752069Z",
          "start_time": "2018-06-03T18:34:39.615413Z"
        },
        "trusted": false,
        "_uuid": "a273ef452ab823d11a8f337c20d6e0fc9bc04e42"
      },
      "cell_type": "code",
      "source": "plot_acc_vs_epoch(cnn_v2_hist)\nprint (cnn_v2.evaluate(x = X_test, y = y_test)[1])",
      "execution_count": null,
      "outputs": []
    },
    {
      "metadata": {
        "_uuid": "1bc2116e9906ffd3fef2c46f3c9e492183c77cf0"
      },
      "cell_type": "markdown",
      "source": "The V2 of the CNN architecture achieves an accuracy of around 95%, 20 points better than the baseline model. Another good point of this model is that there is no clear sign of overfit, as both train and test performances are quite similar. Let's look at the confusion matrix of this model:"
    },
    {
      "metadata": {
        "ExecuteTime": {
          "end_time": "2018-06-03T18:34:40.137748Z",
          "start_time": "2018-06-03T18:34:39.752967Z"
        },
        "trusted": false,
        "_uuid": "ee1f75fc6255a0695349e620f4ac5fd5de5c71d3"
      },
      "cell_type": "code",
      "source": "cnn2_y_test_pred = cnn_v2.predict(X_test)\nplot_conf_matrix(y_test.argmax(axis=1), cnn2_y_test_pred.argmax(axis=1), '')",
      "execution_count": null,
      "outputs": []
    },
    {
      "metadata": {
        "ExecuteTime": {
          "end_time": "2018-06-03T18:34:40.380141Z",
          "start_time": "2018-06-03T18:34:40.142509Z"
        },
        "trusted": false,
        "_uuid": "257bd092291e81606955e08a5da6a0a25450acf3",
        "collapsed": true
      },
      "cell_type": "code",
      "source": "print(classification_report(y_test.argmax(axis=1), cnn2_y_test_pred.argmax(axis=1)))",
      "execution_count": null,
      "outputs": []
    },
    {
      "metadata": {
        "_uuid": "be65811d11053e28dc7ba5b34ea6bda48059e7da"
      },
      "cell_type": "markdown",
      "source": "We see really good performance in all digits. Let's inspect some of the errors that the model is having:"
    },
    {
      "metadata": {
        "ExecuteTime": {
          "end_time": "2018-06-03T18:34:40.563678Z",
          "start_time": "2018-06-03T18:34:40.456115Z"
        },
        "trusted": false,
        "collapsed": true,
        "_uuid": "7ba853ee9b97cc62d2d5815544b5a7ecffc8594e"
      },
      "cell_type": "code",
      "source": "def visual_err_inspection(y_true, y_pred, lab_eval, N_samples=6):\n    \"\"\"\n    This function runs a visual error inspection. It plots two rows of images,\n    the first row shows true positive predictions, while the second one shows\n    flase positive predictions\n    \"\"\"\n    df_y = pd.DataFrame({'y_true': y_true, 'y_pred': y_pred})\n    idx_y_eval_tp = df_y.loc[(df_y.y_true == lab_eval) & (df_y.y_pred == lab_eval)].index.values[:N_samples]\n    idx_y_eval_fp = df_y.loc[(df_y.y_true != lab_eval) & (df_y.y_pred == lab_eval)].index.values[:N_samples]\n\n    #capture number of false positives\n    N_fp = idx_y_eval_fp.shape[0]\n\n    N_plts = min(N_samples, N_fp)\n\n    fig, axs = plt.subplots(2, N_plts, figsize=(15,6))\n    for i in range(N_plts):\n        #set plot for true positive sample\n        axs[0, i].set_title(\"OK: \" + \"Digit - \" + str(lab_eval))\n        axs[0, i].axis('off')\n        axs[0, i].imshow(X_test[idx_y_eval_tp[i], :, :, 0], cmap='gray')\n        \n        #set plot for false positive sample\n        lab_ = df_y.iloc[idx_y_eval_fp[i]].y_true\n        axs[1, i].set_title(\"KO: \" + \"Digit - \" + str(lab_))\n        axs[1, i].axis('off')\n        axs[1, i].imshow(X_test[idx_y_eval_fp[i], :, :, 0], cmap='gray')\n       \n\n    plt.show()",
      "execution_count": null,
      "outputs": []
    },
    {
      "metadata": {
        "_uuid": "b3924681ad4407e6042bbacb0eb1b53a346b2280"
      },
      "cell_type": "markdown",
      "source": "The following plot shows in the first row some samples with true positives for the digit one, while the second row shows some false positives."
    },
    {
      "metadata": {
        "ExecuteTime": {
          "end_time": "2018-06-03T18:34:40.850916Z",
          "start_time": "2018-06-03T18:34:40.568854Z"
        },
        "trusted": false,
        "_uuid": "e1d6446abecd64f8247da62aa5ea85db48c7bf29"
      },
      "cell_type": "code",
      "source": "visual_err_inspection(y_test.argmax(axis=1), cnn2_y_test_pred.argmax(axis=1), 1)",
      "execution_count": null,
      "outputs": []
    },
    {
      "metadata": {
        "_uuid": "42b7dcfc981a0e46bcc0e2e6716596374a4309a5"
      },
      "cell_type": "markdown",
      "source": "We can see that the errors that the false positives are coming from samples quite similar to the digit one. Let's repeat this exercise with some more digits:"
    },
    {
      "metadata": {
        "ExecuteTime": {
          "end_time": "2018-06-03T18:34:41.225594Z",
          "start_time": "2018-06-03T18:34:40.851953Z"
        },
        "trusted": false,
        "_uuid": "194abdb065117855c38167ebc80878c990f325e9"
      },
      "cell_type": "code",
      "source": "visual_err_inspection(y_test.argmax(axis=1), cnn2_y_test_pred.argmax(axis=1), 4)",
      "execution_count": null,
      "outputs": []
    },
    {
      "metadata": {
        "ExecuteTime": {
          "end_time": "2018-06-03T18:34:41.443718Z",
          "start_time": "2018-06-03T18:34:41.226608Z"
        },
        "trusted": false,
        "_uuid": "53f36d68004b6e372c8828fbd52b4518e39bc041"
      },
      "cell_type": "code",
      "source": "visual_err_inspection(y_test.argmax(axis=1), cnn2_y_test_pred.argmax(axis=1), 7)",
      "execution_count": null,
      "outputs": []
    },
    {
      "metadata": {
        "ExecuteTime": {
          "end_time": "2018-06-03T15:40:05.431715Z",
          "start_time": "2018-06-03T15:40:05.423805Z"
        },
        "_uuid": "f64d38dd3feb82e4db1ab83a27ecd2245ea24c4e"
      },
      "cell_type": "markdown",
      "source": "We can see, that in most of the false positives, there is in general some image similarity."
    }
  ],
  "metadata": {
    "kernelspec": {
      "display_name": "Python 3",
      "language": "python",
      "name": "python3"
    },
    "language_info": {
      "name": "python",
      "version": "3.6.6",
      "mimetype": "text/x-python",
      "codemirror_mode": {
        "name": "ipython",
        "version": 3
      },
      "pygments_lexer": "ipython3",
      "nbconvert_exporter": "python",
      "file_extension": ".py"
    }
  },
  "nbformat": 4,
  "nbformat_minor": 1
}